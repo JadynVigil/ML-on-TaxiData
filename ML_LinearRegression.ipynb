{
  "nbformat": 4,
  "nbformat_minor": 0,
  "metadata": {
    "colab": {
      "provenance": [],
      "authorship_tag": "ABX9TyNLx1h8UfI4TE0BC0f90Yzh",
      "include_colab_link": true
    },
    "kernelspec": {
      "name": "python3",
      "display_name": "Python 3"
    },
    "language_info": {
      "name": "python"
    }
  },
  "cells": [
    {
      "cell_type": "markdown",
      "metadata": {
        "id": "view-in-github",
        "colab_type": "text"
      },
      "source": [
        "<a href=\"https://colab.research.google.com/github/JadynVigil/ML-on-TaxiData/blob/main/ML_LinearRegression.ipynb\" target=\"_parent\"><img src=\"https://colab.research.google.com/assets/colab-badge.svg\" alt=\"Open In Colab\"/></a>"
      ]
    },
    {
      "cell_type": "code",
      "execution_count": null,
      "metadata": {
        "colab": {
          "base_uri": "https://localhost:8080/"
        },
        "id": "x-evEcJlmRfw",
        "outputId": "49f3601a-8f86-4d78-a2c2-b1634aee3614"
      },
      "outputs": [
        {
          "output_type": "stream",
          "name": "stdout",
          "text": [
            "Collecting pyspark\n",
            "  Downloading pyspark-3.5.1.tar.gz (317.0 MB)\n",
            "\u001b[2K     \u001b[90m━━━━━━━━━━━━━━━━━━━━━━━━━━━━━━━━━━━━━━━━\u001b[0m \u001b[32m317.0/317.0 MB\u001b[0m \u001b[31m1.2 MB/s\u001b[0m eta \u001b[36m0:00:00\u001b[0m\n",
            "\u001b[?25h  Preparing metadata (setup.py) ... \u001b[?25l\u001b[?25hdone\n",
            "Requirement already satisfied: py4j==0.10.9.7 in /usr/local/lib/python3.10/dist-packages (from pyspark) (0.10.9.7)\n",
            "Building wheels for collected packages: pyspark\n",
            "  Building wheel for pyspark (setup.py) ... \u001b[?25l\u001b[?25hdone\n",
            "  Created wheel for pyspark: filename=pyspark-3.5.1-py2.py3-none-any.whl size=317488491 sha256=c00bf2f757a8f844546b0bd79643c9207edff3a8fb12df250728420cf2a0200a\n",
            "  Stored in directory: /root/.cache/pip/wheels/80/1d/60/2c256ed38dddce2fdd93be545214a63e02fbd8d74fb0b7f3a6\n",
            "Successfully built pyspark\n",
            "Installing collected packages: pyspark\n",
            "Successfully installed pyspark-3.5.1\n"
          ]
        }
      ],
      "source": [
        "!pip3 install pyspark\n",
        "\n",
        "from pyspark.sql import SparkSession\n",
        "from pyspark.ml.feature import StringIndexer, VectorAssembler, StandardScaler\n",
        "from pyspark.ml.regression import LinearRegression\n",
        "from pyspark.ml.evaluation import RegressionEvaluator\n",
        "\n",
        "# Initialize SparkSession\n",
        "spark = SparkSession.builder \\\n",
        "                    .appName(\"LinearRegressionCoursework\") \\\n",
        "                    .master(\"local[*]\") \\\n",
        "                    .config(\"spark.executor.memory\", \"4g\") \\\n",
        "                    .config(\"spark.driver.memory\", \"2g\") \\\n",
        "                    .config(\"spark.executor.cores\", \"2\") \\\n",
        "                    .config(\"spark.sql.inMemoryColumnarStorage.compressed\", \"true\") \\\n",
        "                    .getOrCreate()"
      ]
    },
    {
      "cell_type": "code",
      "source": [
        "from google.colab import drive\n",
        "drive.mount('/content/drive')\n",
        "\n",
        "\n",
        "df = spark.read.csv(\"/content/drive/MyDrive/Data Sets/original_cleaned_nyc_taxi_data_2018.csv\", inferSchema= True, header = True)\n",
        "\n",
        "\n",
        "df.show(20)\n",
        "\n",
        "# more info\n",
        "print(df.rdd.getNumPartitions())\n",
        "print((df.count(), len(df.columns)))\n",
        "df.columns"
      ],
      "metadata": {
        "colab": {
          "base_uri": "https://localhost:8080/"
        },
        "id": "JwHa_iHSmXeR",
        "outputId": "0ae14f4c-6fa9-4b06-ecc8-ece6674c5acb"
      },
      "execution_count": null,
      "outputs": [
        {
          "output_type": "stream",
          "name": "stdout",
          "text": [
            "Mounted at /content/drive\n",
            "+---+-------------+---------+------------------+------------+-----------+-----+-------+----------+------------+-------------+------------+------------------+-------------------+----+-----+---+-----------+-----------+------------------+-----------------------+\n",
            "|_c0|trip_distance|rate_code|store_and_fwd_flag|payment_type|fare_amount|extra|mta_tax|tip_amount|tolls_amount|imp_surcharge|total_amount|pickup_location_id|dropoff_location_id|year|month|day|day_of_week|hour_of_day|     trip_duration|calculated_total_amount|\n",
            "+---+-------------+---------+------------------+------------+-----------+-----+-------+----------+------------+-------------+------------+------------------+-------------------+----+-----+---+-----------+-----------+------------------+-----------------------+\n",
            "|  3|        16.97|        1|                 N|           1|       49.5|  0.0|    0.5|      5.61|        5.76|          0.3|       61.67|               231|                138|2018|    3| 29|          3|         13|            3317.0|     61.669999999999995|\n",
            "|  4|        14.45|        1|                 N|           1|       45.5|  0.0|    0.5|     10.41|        5.76|          0.3|       62.47|                87|                138|2018|    3| 29|          3|         14|            3648.0|      62.46999999999999|\n",
            "|  5|         11.6|        1|                 N|           1|       42.0|  0.0|    0.5|     14.57|        5.76|          0.3|       63.13|                68|                138|2018|    3| 29|          3|         14|            3540.0|     63.129999999999995|\n",
            "| 10|          5.1|        1|                 N|           1|       26.5|  1.0|    0.5|      5.65|         0.0|          0.3|       33.95|               186|                 33|2018|    3| 29|          3|         16|            2585.0|     33.949999999999996|\n",
            "| 12|        11.11|        1|                 N|           1|       45.5|  1.0|    0.5|     10.61|        5.76|          0.3|       63.67|               163|                138|2018|    3| 29|          3|         16|            4521.0|     63.669999999999995|\n",
            "| 13|         9.54|        1|                 N|           1|       41.0|  1.0|    0.5|      9.71|        5.76|          0.3|       58.27|               138|                244|2018|    3| 29|          3|         16|3738.0000000000005|     58.269999999999996|\n",
            "| 17|         10.0|        1|                 N|           1|       38.5|  1.0|    0.5|      8.05|         0.0|          0.3|       48.35|               138|                 25|2018|    3| 29|          3|         17|            3598.0|     48.349999999999994|\n",
            "| 18|          9.8|        1|                 N|           1|       38.5|  1.0|    0.5|      6.94|        5.76|          0.3|        53.0|               138|                 90|2018|    3| 29|          3|         17|            3267.0|      52.99999999999999|\n",
            "| 20|         14.1|        1|                 N|           1|       48.5|  1.0|    0.5|       7.0|        5.76|          0.3|       63.06|               264|                264|2018|    3| 29|          3|         17|3959.0000000000005|     63.059999999999995|\n",
            "| 23|         18.5|        1|                 N|           1|       50.0|  0.5|    0.5|     15.35|         0.0|          0.3|       66.65|               132|                255|2018|    5| 19|          5|          0|            1512.0|      66.64999999999999|\n",
            "| 31|        10.08|        1|                 N|           1|       31.5|  0.0|    0.5|      8.08|         0.0|          0.3|       40.38|               249|                133|2018|    5| 19|          5|         11|            1665.0|     40.379999999999995|\n",
            "| 32|         0.27|        1|                 N|           1|        3.0|  0.0|    0.5|      1.14|         0.0|          0.3|        4.94|               151|                151|2018|    5| 19|          5|         11|              76.0|     4.9399999999999995|\n",
            "| 34|        11.24|        1|                 N|           1|       33.0|  0.0|    0.5|      9.89|        5.76|          0.3|       49.45|               186|                 67|2018|    5| 19|          5|         12|            1632.0|     49.449999999999996|\n",
            "| 37|          9.6|        1|                 N|           1|       31.5|  0.0|    0.5|       7.0|        5.76|          0.3|       45.06|               138|                100|2018|    3| 12|          0|         10|1901.0000000000002|     45.059999999999995|\n",
            "| 39|        10.22|        1|                 N|           1|       29.5|  0.0|    0.5|       6.0|        5.76|          0.3|       42.06|               234|                138|2018|    3| 12|          0|         10|            1337.0|     42.059999999999995|\n",
            "| 44|        11.73|        1|                 N|           1|       39.0|  0.0|    0.5|      9.11|        5.76|          0.3|       54.67|               138|                163|2018|    3| 12|          0|         13|            2366.0|     54.669999999999995|\n",
            "| 45|          9.4|        1|                 N|           1|       31.0|  0.0|    0.5|      7.51|        5.76|          0.3|       45.07|               138|                 68|2018|    3| 12|          0|         13|            1806.0|      45.06999999999999|\n",
            "| 47|         9.82|        1|                 N|           1|       30.5|  0.0|    0.5|      7.41|        5.76|          0.3|       44.47|               138|                162|2018|    3| 12|          0|         14|            1720.0|      44.46999999999999|\n",
            "| 53|         7.97|        1|                 N|           1|       25.5|  0.0|    0.5|      6.41|        5.76|          0.3|       38.47|               138|                236|2018|    3| 12|          0|         15|            1482.0|      38.46999999999999|\n",
            "| 55|         8.16|        1|                 N|           1|       25.5|  1.0|    0.5|      6.61|        5.76|          0.3|       39.67|               138|                162|2018|    3| 12|          0|         16|            1502.0|     39.669999999999995|\n",
            "+---+-------------+---------+------------------+------------+-----------+-----+-------+----------+------------+-------------+------------+------------------+-------------------+----+-----+---+-----------+-----------+------------------+-----------------------+\n",
            "only showing top 20 rows\n",
            "\n",
            "6\n",
            "(8319928, 21)\n"
          ]
        },
        {
          "output_type": "execute_result",
          "data": {
            "text/plain": [
              "['_c0',\n",
              " 'trip_distance',\n",
              " 'rate_code',\n",
              " 'store_and_fwd_flag',\n",
              " 'payment_type',\n",
              " 'fare_amount',\n",
              " 'extra',\n",
              " 'mta_tax',\n",
              " 'tip_amount',\n",
              " 'tolls_amount',\n",
              " 'imp_surcharge',\n",
              " 'total_amount',\n",
              " 'pickup_location_id',\n",
              " 'dropoff_location_id',\n",
              " 'year',\n",
              " 'month',\n",
              " 'day',\n",
              " 'day_of_week',\n",
              " 'hour_of_day',\n",
              " 'trip_duration',\n",
              " 'calculated_total_amount']"
            ]
          },
          "metadata": {},
          "execution_count": 2
        }
      ]
    },
    {
      "cell_type": "code",
      "source": [
        "df.printSchema()"
      ],
      "metadata": {
        "colab": {
          "base_uri": "https://localhost:8080/"
        },
        "id": "slSsqHKQmgA7",
        "outputId": "959039a7-3b68-4790-e937-a47f75565b5e"
      },
      "execution_count": null,
      "outputs": [
        {
          "output_type": "stream",
          "name": "stdout",
          "text": [
            "root\n",
            " |-- _c0: integer (nullable = true)\n",
            " |-- trip_distance: double (nullable = true)\n",
            " |-- rate_code: integer (nullable = true)\n",
            " |-- store_and_fwd_flag: string (nullable = true)\n",
            " |-- payment_type: integer (nullable = true)\n",
            " |-- fare_amount: double (nullable = true)\n",
            " |-- extra: double (nullable = true)\n",
            " |-- mta_tax: double (nullable = true)\n",
            " |-- tip_amount: double (nullable = true)\n",
            " |-- tolls_amount: double (nullable = true)\n",
            " |-- imp_surcharge: double (nullable = true)\n",
            " |-- total_amount: double (nullable = true)\n",
            " |-- pickup_location_id: integer (nullable = true)\n",
            " |-- dropoff_location_id: integer (nullable = true)\n",
            " |-- year: integer (nullable = true)\n",
            " |-- month: integer (nullable = true)\n",
            " |-- day: integer (nullable = true)\n",
            " |-- day_of_week: integer (nullable = true)\n",
            " |-- hour_of_day: integer (nullable = true)\n",
            " |-- trip_duration: double (nullable = true)\n",
            " |-- calculated_total_amount: double (nullable = true)\n",
            "\n"
          ]
        }
      ]
    },
    {
      "cell_type": "code",
      "source": [
        "#Check for missing values\n",
        "from pyspark.sql.functions import col, sum\n",
        "\n",
        "missing_values = [sum(col(c).isNull().cast(\"int\")).alias(c) for c in df.columns]\n",
        "\n",
        "values_missing = df.select(missing_values)\n",
        "values_missing.show()"
      ],
      "metadata": {
        "colab": {
          "base_uri": "https://localhost:8080/"
        },
        "id": "xQDDekUpmizZ",
        "outputId": "d4bf8923-5c08-4127-deea-cacb214f7b04"
      },
      "execution_count": null,
      "outputs": [
        {
          "output_type": "stream",
          "name": "stdout",
          "text": [
            "+---+-------------+---------+------------------+------------+-----------+-----+-------+----------+------------+-------------+------------+------------------+-------------------+----+-----+---+-----------+-----------+-------------+-----------------------+\n",
            "|_c0|trip_distance|rate_code|store_and_fwd_flag|payment_type|fare_amount|extra|mta_tax|tip_amount|tolls_amount|imp_surcharge|total_amount|pickup_location_id|dropoff_location_id|year|month|day|day_of_week|hour_of_day|trip_duration|calculated_total_amount|\n",
            "+---+-------------+---------+------------------+------------+-----------+-----+-------+----------+------------+-------------+------------+------------------+-------------------+----+-----+---+-----------+-----------+-------------+-----------------------+\n",
            "|  0|            0|        0|                 0|           0|          0|    0|      0|         0|           0|            0|           0|                 0|                  0|   0|    0|  0|          0|          0|            0|                 663659|\n",
            "+---+-------------+---------+------------------+------------+-----------+-----+-------+----------+------------+-------------+------------+------------------+-------------------+----+-----+---+-----------+-----------+-------------+-----------------------+\n",
            "\n"
          ]
        }
      ]
    },
    {
      "cell_type": "code",
      "source": [
        "# drop columns\n",
        "final_df = df.drop(\"_c0\", \"rate_code\", \"store_and_fwd_flag\",\"payment_type\", \"pickup_location_id\", \"dropoff_location_id\", \"year\", \"month\", \"day\", \"day_of_week\", \"hour_of_day\", \"trip_duration\", \"calculated_total_amount\")\n",
        "final_df.show(10)"
      ],
      "metadata": {
        "colab": {
          "base_uri": "https://localhost:8080/"
        },
        "id": "0sWiEvqvmnvp",
        "outputId": "134032f0-9f08-425c-cf77-accf46b122fe"
      },
      "execution_count": null,
      "outputs": [
        {
          "output_type": "stream",
          "name": "stdout",
          "text": [
            "+-------------+-----------+-----+-------+----------+------------+-------------+------------+\n",
            "|trip_distance|fare_amount|extra|mta_tax|tip_amount|tolls_amount|imp_surcharge|total_amount|\n",
            "+-------------+-----------+-----+-------+----------+------------+-------------+------------+\n",
            "|        16.97|       49.5|  0.0|    0.5|      5.61|        5.76|          0.3|       61.67|\n",
            "|        14.45|       45.5|  0.0|    0.5|     10.41|        5.76|          0.3|       62.47|\n",
            "|         11.6|       42.0|  0.0|    0.5|     14.57|        5.76|          0.3|       63.13|\n",
            "|          5.1|       26.5|  1.0|    0.5|      5.65|         0.0|          0.3|       33.95|\n",
            "|        11.11|       45.5|  1.0|    0.5|     10.61|        5.76|          0.3|       63.67|\n",
            "|         9.54|       41.0|  1.0|    0.5|      9.71|        5.76|          0.3|       58.27|\n",
            "|         10.0|       38.5|  1.0|    0.5|      8.05|         0.0|          0.3|       48.35|\n",
            "|          9.8|       38.5|  1.0|    0.5|      6.94|        5.76|          0.3|        53.0|\n",
            "|         14.1|       48.5|  1.0|    0.5|       7.0|        5.76|          0.3|       63.06|\n",
            "|         18.5|       50.0|  0.5|    0.5|     15.35|         0.0|          0.3|       66.65|\n",
            "+-------------+-----------+-----+-------+----------+------------+-------------+------------+\n",
            "only showing top 10 rows\n",
            "\n"
          ]
        }
      ]
    },
    {
      "cell_type": "code",
      "source": [
        "# combine features into a single vector column using VectorAssembler\n",
        "assembler = VectorAssembler(inputCols=[\"trip_distance\", \"fare_amount\", \"extra\", \"mta_tax\", \"tip_amount\", \"tolls_amount\", \"imp_surcharge\"],\n",
        "                            outputCol=\"features\")\n",
        "\n",
        "dataset = assembler.transform(final_df)\n",
        "\n",
        "dataset = dataset.select(\"features\", \"total_amount\")\n",
        "\n",
        "dataset.show(5, truncate=False)"
      ],
      "metadata": {
        "colab": {
          "base_uri": "https://localhost:8080/"
        },
        "id": "X-ulH0XTmqHI",
        "outputId": "520a5ca5-23b1-4a0a-d9d0-537c4fc49eca"
      },
      "execution_count": null,
      "outputs": [
        {
          "output_type": "stream",
          "name": "stdout",
          "text": [
            "+-----------------------------------+------------+\n",
            "|features                           |total_amount|\n",
            "+-----------------------------------+------------+\n",
            "|[16.97,49.5,0.0,0.5,5.61,5.76,0.3] |61.67       |\n",
            "|[14.45,45.5,0.0,0.5,10.41,5.76,0.3]|62.47       |\n",
            "|[11.6,42.0,0.0,0.5,14.57,5.76,0.3] |63.13       |\n",
            "|[5.1,26.5,1.0,0.5,5.65,0.0,0.3]    |33.95       |\n",
            "|[11.11,45.5,1.0,0.5,10.61,5.76,0.3]|63.67       |\n",
            "+-----------------------------------+------------+\n",
            "only showing top 5 rows\n",
            "\n"
          ]
        }
      ]
    },
    {
      "cell_type": "code",
      "source": [
        "# Normalize the data by scaling\n",
        "scaler = StandardScaler(inputCol = 'features', outputCol = 'scaledFeatures')\n",
        "\n",
        "scaler_model = scaler.fit(dataset)\n",
        "data_scaled = scaler_model.transform(dataset)\n",
        "\n",
        "data_scaled = data_scaled.select('scaledFeatures', 'total_amount')\n",
        "data_scaled.show(5, truncate = False)"
      ],
      "metadata": {
        "colab": {
          "base_uri": "https://localhost:8080/"
        },
        "id": "DltwG753mxYh",
        "outputId": "c6fefdbc-c074-4e61-979e-852d91505fe4"
      },
      "execution_count": null,
      "outputs": [
        {
          "output_type": "stream",
          "name": "stdout",
          "text": [
            "+-----------------------------------------------------------------------------------------------------------------------------------+------------+\n",
            "|scaledFeatures                                                                                                                     |total_amount|\n",
            "+-----------------------------------------------------------------------------------------------------------------------------------+------------+\n",
            "|[2.884850263598151,0.6539783410641749,0.0,6.043060556946095,1.227546659284149,1.5353832540051882,80.12909813820313]                |61.67       |\n",
            "|[2.456457649321938,0.6011316064327263,0.0,6.043060556946095,2.277853961345453,1.5353832540051882,80.12909813820313]                |62.47       |\n",
            "|[1.9719660022238394,0.5548907136302089,0.0,6.043060556946095,3.188120289798583,1.5353832540051882,80.12909813820313]               |63.13       |\n",
            "|[0.8669850527018603,0.35010961693334613,1.766231153223802,6.043060556946095,1.2362992201346599,0.0,80.12909813820313]              |33.95       |\n",
            "|[1.8886674383367978,0.6011316064327263,1.766231153223802,6.043060556946095,2.3216167655980073,1.5353832540051882,80.12909813820313]|63.67       |\n",
            "+-----------------------------------------------------------------------------------------------------------------------------------+------------+\n",
            "only showing top 5 rows\n",
            "\n"
          ]
        }
      ]
    },
    {
      "cell_type": "code",
      "source": [
        "# split data\n",
        "train_data, test_data = data_scaled.randomSplit([0.7, 0.3], seed = 21)\n",
        "train_data.show(5, truncate = False)"
      ],
      "metadata": {
        "colab": {
          "base_uri": "https://localhost:8080/"
        },
        "id": "nnWtbIOZm7-H",
        "outputId": "0f480977-c420-4fe5-cf89-c55f610e24ce"
      },
      "execution_count": null,
      "outputs": [
        {
          "output_type": "stream",
          "name": "stdout",
          "text": [
            "+-----------------------------------------------------+------------+\n",
            "|scaledFeatures                                       |total_amount|\n",
            "+-----------------------------------------------------+------------+\n",
            "|(7,[0,1],[0.003399941383144551,0.03302920914465529]) |2.5         |\n",
            "|(7,[0,1],[0.006799882766289102,0.9644529070239346])  |73.0        |\n",
            "|(7,[0,1],[0.008499853457861377,0.792701019471727])   |60.0        |\n",
            "|(7,[0,1],[0.016999706915722754,0.039635050973586355])|3.0         |\n",
            "|(7,[0,1],[1.6829709846565526,0.9520339243855442])    |72.06       |\n",
            "+-----------------------------------------------------+------------+\n",
            "only showing top 5 rows\n",
            "\n"
          ]
        }
      ]
    },
    {
      "cell_type": "code",
      "source": [
        "# Apply Linear Regression\n",
        "lr = LinearRegression(labelCol = 'total_amount', featuresCol = 'scaledFeatures', predictionCol = 'prediction')\n",
        "\n",
        "lr_model = lr.fit(train_data)\n",
        "\n",
        "lr_predictions = lr_model.transform(test_data)\n",
        "\n",
        "lr_predictions.select('prediction', 'total_amount').show(10, truncate = False)"
      ],
      "metadata": {
        "colab": {
          "base_uri": "https://localhost:8080/"
        },
        "id": "1RLQDRGEm-nx",
        "outputId": "fab3cb56-2182-45ef-b8af-5ae7bc02a0d5"
      },
      "execution_count": null,
      "outputs": [
        {
          "output_type": "stream",
          "name": "stdout",
          "text": [
            "+------------------+------------+\n",
            "|prediction        |total_amount|\n",
            "+------------------+------------+\n",
            "|45.85694523563021 |45.85       |\n",
            "|56.46636085573803 |56.46       |\n",
            "|67.25598305493278 |67.25       |\n",
            "|65.30587898322983 |65.3        |\n",
            "|96.98575809650276 |96.98       |\n",
            "|70.26578657092618 |70.26       |\n",
            "|73.06577431926492 |73.06       |\n",
            "|70.26574826090093 |70.26       |\n",
            "|117.35552549462263|117.35      |\n",
            "|60.50353141329312 |60.5        |\n",
            "+------------------+------------+\n",
            "only showing top 10 rows\n",
            "\n"
          ]
        }
      ]
    },
    {
      "cell_type": "code",
      "source": [
        "#Access the coefficients and intercept of the model\n",
        "\n",
        "coefficients = lr_model.coefficients\n",
        "intercept = lr_model.intercept\n",
        "\n",
        "print(coefficients)\n",
        "print(intercept)"
      ],
      "metadata": {
        "colab": {
          "base_uri": "https://localhost:8080/"
        },
        "id": "PGBStaq9nDEc",
        "outputId": "13a7e36e-e493-498d-dcd6-cae66ff0e722"
      },
      "execution_count": null,
      "outputs": [
        {
          "output_type": "stream",
          "name": "stdout",
          "text": [
            "[-0.00045071394966665753,75.69045601860002,0.5654997929993214,0.0821316680769739,4.571820353421394,3.7507155669407193,0.003801552090787258]\n",
            "0.007303885437329494\n"
          ]
        }
      ]
    },
    {
      "cell_type": "code",
      "source": [
        "# Apply Lasso Regression\n",
        "lasso = LinearRegression(labelCol = 'total_amount', featuresCol = 'scaledFeatures',\n",
        "                         predictionCol = 'prediction', elasticNetParam = 1.0, regParam = 0.08) # lambda: tuning\n",
        "lasso_model = lasso.fit(train_data)\n",
        "lasso_predictions = lasso_model.transform(test_data)\n",
        "\n",
        "lasso_predictions.select('prediction', 'total_amount').show(10, truncate = False)"
      ],
      "metadata": {
        "colab": {
          "base_uri": "https://localhost:8080/"
        },
        "id": "bRfWs3OznFq3",
        "outputId": "15e67246-9846-42a4-fe3f-3bf34a8933aa"
      },
      "execution_count": null,
      "outputs": [
        {
          "output_type": "stream",
          "name": "stdout",
          "text": [
            "+------------------+------------+\n",
            "|prediction        |total_amount|\n",
            "+------------------+------------+\n",
            "|46.78928132227141 |45.85       |\n",
            "|57.38318300433788 |56.46       |\n",
            "|68.15681157639227 |67.25       |\n",
            "|66.20977026818967 |65.3        |\n",
            "|97.84170290606579 |96.98       |\n",
            "|71.16224457007937 |70.26       |\n",
            "|73.95799619211387 |73.06       |\n",
            "|71.16224457007937 |70.26       |\n",
            "|118.18079595636681|117.35      |\n",
            "|60.9178118407672  |60.5        |\n",
            "+------------------+------------+\n",
            "only showing top 10 rows\n",
            "\n"
          ]
        }
      ]
    },
    {
      "cell_type": "code",
      "source": [
        "# Ridge\n",
        "ridge = LinearRegression(labelCol = 'total_amount', featuresCol = 'scaledFeatures',\n",
        "                         predictionCol = 'prediction', elasticNetParam = 0.0, regParam = 0.08)\n",
        "ridge_model = ridge.fit(train_data)\n",
        "ridge_predictions = ridge_model.transform(test_data)\n",
        "ridge_predictions.select('prediction', 'total_amount').show(10, truncate = False)"
      ],
      "metadata": {
        "colab": {
          "base_uri": "https://localhost:8080/"
        },
        "id": "pu8yKKEnnInI",
        "outputId": "715f0f81-e18c-41fe-a1b6-f2d6380997f1"
      },
      "execution_count": null,
      "outputs": [
        {
          "output_type": "stream",
          "name": "stdout",
          "text": [
            "+------------------+------------+\n",
            "|prediction        |total_amount|\n",
            "+------------------+------------+\n",
            "|45.94203562564247 |45.85       |\n",
            "|56.56467148205804 |56.46       |\n",
            "|67.35501001696201 |67.25       |\n",
            "|65.41490932030548 |65.3        |\n",
            "|97.03878366800255 |96.98       |\n",
            "|70.37036888998053 |70.26       |\n",
            "|73.16549886350602 |73.06       |\n",
            "|70.37258292372735 |70.26       |\n",
            "|117.38164578178241|117.35      |\n",
            "|60.49580037239025 |60.5        |\n",
            "+------------------+------------+\n",
            "only showing top 10 rows\n",
            "\n"
          ]
        }
      ]
    },
    {
      "cell_type": "code",
      "source": [
        "# calculate MSE - Mean Squared Error\n",
        "evaluator_mse = RegressionEvaluator(labelCol = 'total_amount', predictionCol = 'prediction', metricName = 'mse')\n",
        "mse1 = evaluator_mse.evaluate(lr_predictions)\n",
        "mse2 = evaluator_mse.evaluate(lasso_predictions)\n",
        "mse3 = evaluator_mse.evaluate(ridge_predictions)\n",
        "\n",
        "# calculate RMSE - Root of MSE\n",
        "evaluator_rmse = RegressionEvaluator(labelCol = 'total_amount', predictionCol = 'prediction', metricName = 'rmse')\n",
        "rmse1 = evaluator_rmse.evaluate(lr_predictions)\n",
        "rmse2 = evaluator_rmse.evaluate(lasso_predictions)\n",
        "rmse3 = evaluator_rmse.evaluate(ridge_predictions)\n",
        "\n",
        "# calculate Root squared\n",
        "evaluator_r2 = RegressionEvaluator(labelCol = 'total_amount', predictionCol = 'prediction', metricName = 'r2')\n",
        "r2_mse1 = evaluator_r2.evaluate(lr_predictions)\n",
        "r2_mse2 = evaluator_r2.evaluate(lasso_predictions)\n",
        "r2_mse3 = evaluator_r2.evaluate(ridge_predictions)\n",
        "\n",
        "\n",
        "print('Linear - MSE: ', mse1, ', RMSE: ', rmse1, ', R^2: ', r2_mse1)\n",
        "print('Lasso - MSE: ', mse2, ', RMSE: ', rmse2, ', R^2: ', r2_mse2)\n",
        "print('Ridge - MSE: ', mse3, ', RMSE: ', rmse3, ', R^2: ', r2_mse3)"
      ],
      "metadata": {
        "colab": {
          "base_uri": "https://localhost:8080/"
        },
        "id": "IqVGBgEQnLQB",
        "outputId": "74298d6f-ff45-40fa-8c4c-90e2dcc11fd7"
      },
      "execution_count": null,
      "outputs": [
        {
          "output_type": "stream",
          "name": "stdout",
          "text": [
            "Linear - MSE:  0.0215439025742994 , RMSE:  0.14677841317543736 , R^2:  0.9999985222109227\n",
            "Lasso - MSE:  0.07552638193691483 , RMSE:  0.2748206359371778 , R^2:  0.9999948193201352\n",
            "Ridge - MSE:  0.07285183598182052 , RMSE:  0.2699107926367905 , R^2:  0.9999950027787627\n"
          ]
        }
      ]
    },
    {
      "cell_type": "code",
      "source": [
        "#plot\n",
        "import matplotlib.pyplot as plt\n",
        "import numpy as np\n",
        "\n",
        "mse = [mse1, mse2, mse3]\n",
        "rmse = [rmse1, rmse2, rmse3]\n",
        "r2_mse = [r2_mse1, r2_mse2, r2_mse3]\n",
        "\n",
        "positions = np.arange(len(mse))\n",
        "bar_width = 0.2\n",
        "\n",
        "plt.bar(positions - bar_width, mse, width = bar_width, label = 'MSE')\n",
        "plt.bar(positions, rmse, width = bar_width, label = 'RMSE')\n",
        "plt.bar(positions + bar_width, r2_mse, width = bar_width, label = 'R2_MSE')\n",
        "\n",
        "# adding labels and title\n",
        "plt.xlabel('Model')\n",
        "plt.ylabel('Scores')\n",
        "plt.title('Comparison of Regression Metrics')\n",
        "\n",
        "# adding the legend\n",
        "plt.legend()\n",
        "plt.xticks(positions, ['Linear Regression', 'Lasso Regression', 'Ridge Regression'])\n",
        "plt.show()"
      ],
      "metadata": {
        "colab": {
          "base_uri": "https://localhost:8080/",
          "height": 472
        },
        "id": "CHx5sUitnQvX",
        "outputId": "dbef6488-2d58-4c90-93c6-f1fa34ef25cd"
      },
      "execution_count": null,
      "outputs": [
        {
          "output_type": "display_data",
          "data": {
            "text/plain": [
              "<Figure size 640x480 with 1 Axes>"
            ],
            "image/png": "[encoded data removed]"
          },
          "metadata": {}
        }
      ]
    }
  ]
}